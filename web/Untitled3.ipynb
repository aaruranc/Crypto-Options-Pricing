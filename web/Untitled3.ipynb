{
 "cells": [
  {
   "cell_type": "code",
   "execution_count": 3,
   "metadata": {},
   "outputs": [
    {
     "name": "stdout",
     "output_type": "stream",
     "text": [
      "1 day, 0:00:00 -1 day, 0:00:00\n"
     ]
    }
   ],
   "source": [
    "import datetime\n",
    "\n",
    "x = datetime.timedelta(days=1)\n",
    "y = -x\n",
    "print(x,y)"
   ]
  },
  {
   "cell_type": "code",
   "execution_count": 27,
   "metadata": {},
   "outputs": [
    {
     "name": "stdout",
     "output_type": "stream",
     "text": [
      "1986 1 ['1986', '01', '02']\n"
     ]
    }
   ],
   "source": [
    "end = '1986-01-02'\n",
    "day = datetime.timedelta(days=1)\n",
    "end_datetime = datetime.date(year=int(end[:4]), month=int(end[5:7]), day=int(end[8:10]))\n",
    "new = end_datetime - 500 * day\n",
    "a = end_datetime.year\n",
    "b = end_datetime.month\n",
    "c = str(end).rsplit('-')\n",
    "print(a,b,c)\n",
    "# str(a) + '-' + str(b)\n",
    "# print(new)"
   ]
  },
  {
   "cell_type": "code",
   "execution_count": 29,
   "metadata": {},
   "outputs": [
    {
     "data": {
      "text/plain": [
       "0    1\n",
       "1    2\n",
       "2    3\n",
       "3    4\n",
       "4    5\n",
       "Name: 1, dtype: int64"
      ]
     },
     "execution_count": 29,
     "metadata": {},
     "output_type": "execute_result"
    }
   ],
   "source": [
    "import pandas as pd\n",
    "d = {'1': [1, 2, 3, 4, 5] , '2': [2, 4, 6, 8, 10]}\n",
    "df = pd.DataFrame.from_dict(d)\n",
    "df['2']"
   ]
  },
  {
   "cell_type": "code",
   "execution_count": null,
   "metadata": {},
   "outputs": [],
   "source": []
  }
 ],
 "metadata": {
  "kernelspec": {
   "display_name": "Python 3",
   "language": "python",
   "name": "python3"
  },
  "language_info": {
   "codemirror_mode": {
    "name": "ipython",
    "version": 3
   },
   "file_extension": ".py",
   "mimetype": "text/x-python",
   "name": "python",
   "nbconvert_exporter": "python",
   "pygments_lexer": "ipython3",
   "version": "3.6.4"
  }
 },
 "nbformat": 4,
 "nbformat_minor": 2
}
